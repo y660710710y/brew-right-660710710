{
 "cells": [
  {
   "cell_type": "markdown",
   "metadata": {},
   "source": [
    "# Data Ingestion to Bronze Layer\n",
    "\n",
    "Bronze layer เป็นชั้นแรกของ Medallion Architecture ที่เก็บ raw data โดยไม่มีการแปลงใด ๆ"
   ]
  },
  {
   "cell_type": "markdown",
   "metadata": {},
   "source": [
    "## Step 1: Import Libraries ที่จำเป็น"
   ]
  },
  {
   "cell_type": "code",
   "execution_count": 10,
   "metadata": {},
   "outputs": [],
   "source": [
    "import boto3\n",
    "import json\n",
    "import requests\n",
    "from datetime import datetime\n",
    "import pandas as pd\n",
    "from io import StringIO"
   ]
  },
  {
   "cell_type": "markdown",
   "metadata": {},
   "source": [
    "## Step 2: ตั้งค่าการเชื่อมต่อ MinIO\n",
    "\n",
    "MinIO ใช้ protocol เดียวกับ AWS S3"
   ]
  },
  {
   "cell_type": "code",
   "execution_count": 11,
   "metadata": {},
   "outputs": [
    {
     "name": "stdout",
     "output_type": "stream",
     "text": [
      "เชื่อมต่อ MinIO สำเร็จ\n"
     ]
    }
   ],
   "source": [
    "# MinIO configuration\n",
    "minio_endpoint = 'http://localhost:9000'\n",
    "minio_access_key = 'minioadmin'\n",
    "minio_secret_key = 'minioadmin'\n",
    "\n",
    "# สร้าง S3 client สำหรับ MinIO\n",
    "s3_client = boto3.client(\n",
    "    's3',\n",
    "    endpoint_url=minio_endpoint,\n",
    "    aws_access_key_id=minio_access_key,\n",
    "    aws_secret_access_key=minio_secret_key,\n",
    "    use_ssl=False\n",
    ")\n",
    "\n",
    "print(\"เชื่อมต่อ MinIO สำเร็จ\")"
   ]
  },
  {
   "cell_type": "markdown",
   "metadata": {},
   "source": [
    "## Step 3: ตรวจสอบ Buckets ที่มีอยู่"
   ]
  },
  {
   "cell_type": "code",
   "execution_count": 12,
   "metadata": {},
   "outputs": [
    {
     "name": "stdout",
     "output_type": "stream",
     "text": [
      "Buckets ที่มีอยู่\n",
      "  - bronze\n",
      "  - gold\n",
      "  - models\n",
      "  - silver\n"
     ]
    }
   ],
   "source": [
    "# List all buckets\n",
    "response = s3_client.list_buckets()\n",
    "buckets = [bucket['Name'] for bucket in response['Buckets']]\n",
    "print(\"Buckets ที่มีอยู่\")\n",
    "for bucket in buckets:\n",
    "    print(f\"  - {bucket}\")"
   ]
  },
  {
   "cell_type": "markdown",
   "metadata": {},
   "source": [
    "## Step 4: ดึงข้อมูลจาก API (Coffee Image)"
   ]
  },
  {
   "cell_type": "code",
   "execution_count": 13,
   "metadata": {},
   "outputs": [
    {
     "name": "stdout",
     "output_type": "stream",
     "text": [
      "{\n",
      "  \"file\": \"https://coffee.alexflipnote.dev/ZMos1oKDBh0_coffee.jpg\",\n",
      "  \"fetched_at\": \"2025-07-23T09:50:09.393006\",\n",
      "  \"source\": \"https://coffee.alexflipnote.dev/random.json\"\n",
      "}\n"
     ]
    }
   ],
   "source": [
    "# ดึงข้อมูลรูปกาแฟ\n",
    "def fetch_coffee_data():\n",
    "    url = \"https://coffee.alexflipnote.dev/random.json\"\n",
    "    headers = {\n",
    "        'User-Agent': 'Brew-Right Data Collector 1.0',\n",
    "        'Accept': 'application/json'\n",
    "    }\n",
    "    \n",
    "    try:\n",
    "        response = requests.get(url, headers=headers, timeout=10)\n",
    "        response.raise_for_status()\n",
    "        \n",
    "        # เพิ่ม metadata\n",
    "        data = response.json()\n",
    "        data['fetched_at'] = datetime.now().isoformat()\n",
    "        data['source'] = url\n",
    "        \n",
    "        return data\n",
    "    except Exception as e:\n",
    "        print(f\"Error: {e}\")\n",
    "        return None\n",
    "\n",
    "# ทดสอบดึงข้อมูล\n",
    "coffee_data = fetch_coffee_data()\n",
    "print(json.dumps(coffee_data, indent=2, ensure_ascii=False))"
   ]
  },
  {
   "cell_type": "markdown",
   "metadata": {},
   "source": [
    "## Step 5: บันทึกข้อมูลลง Bronze Layer (JSON Format)"
   ]
  },
  {
   "cell_type": "code",
   "execution_count": 14,
   "metadata": {},
   "outputs": [
    {
     "name": "stdout",
     "output_type": "stream",
     "text": [
      "บันทึกข้อมูลสำเร็จ bronze/coffee_images/year=2025/month=07/day=23/20250723_095009.json\n"
     ]
    }
   ],
   "source": [
    "# สร้าง path ใน bronze bucket\n",
    "# Format: bronze/coffee_images/year=2024/month=01/day=23/timestamp.json\n",
    "now = datetime.now()\n",
    "file_path = f\"coffee_images/year={now.year}/month={now.month:02d}/day={now.day:02d}/{now.strftime('%Y%m%d_%H%M%S')}.json\"\n",
    "\n",
    "# แปลงข้อมูลเป็น JSON string\n",
    "json_data = json.dumps(coffee_data, ensure_ascii=False)\n",
    "\n",
    "# Upload ไปยัง MinIO\n",
    "try:\n",
    "    s3_client.put_object(\n",
    "        Bucket='bronze',\n",
    "        Key=file_path,\n",
    "        Body=json_data,\n",
    "        ContentType='application/json'\n",
    "    )\n",
    "    print(f\"บันทึกข้อมูลสำเร็จ bronze/{file_path}\")\n",
    "except Exception as e:\n",
    "    print(f\"Error uploading: {e}\")"
   ]
  },
  {
   "cell_type": "markdown",
   "metadata": {},
   "source": [
    "## Step 6: ดึงข้อมูลราคากาแฟและบันทึกแบบ CSV"
   ]
  },
  {
   "cell_type": "code",
   "execution_count": 15,
   "metadata": {},
   "outputs": [
    {
     "data": {
      "text/plain": [
       "[{'product': '4',\n",
       "  'unit': 'เมล็ดกาแฟคละ (บาท/กิโลกรัม) 3/',\n",
       "  'price': '74.51',\n",
       "  'scraped_at': '2025-07-23T09:50:09.876677',\n",
       "  'source_url': 'https://app.bot.or.th/BTWS_STAT/statistics/BOTWEBSTAT.aspx?language=TH&reportID=588'}]"
      ]
     },
     "execution_count": 15,
     "metadata": {},
     "output_type": "execute_result"
    }
   ],
   "source": [
    "# ดึงข้อมูลราคากาแฟจาก ธปท.\n",
    "from bs4 import BeautifulSoup\n",
    "\n",
    "def fetch_coffee_prices():\n",
    "    headers = {\n",
    "        'User-Agent': 'Mozilla/5.0 (compatible; Brew-Right Bot 1.0; +https://www.plearnjai.com/dstools/bot.html)'\n",
    "    }\n",
    "    url = 'https://app.bot.or.th/BTWS_STAT/statistics/BOTWEBSTAT.aspx?language=TH&reportID=588'\n",
    "    \n",
    "    try:\n",
    "        resp = requests.get(url, headers=headers, timeout=10)\n",
    "        resp.raise_for_status()\n",
    "        soup = BeautifulSoup(resp.content, 'html.parser')\n",
    "\n",
    "        prices = []\n",
    "        for row in soup.find_all('tr'):\n",
    "            if 'เมล็ดกาแฟ' in row.get_text():\n",
    "                cols = row.find_all('td')\n",
    "                if len(cols) >= 3:\n",
    "                    prices.append({\n",
    "                        'product': cols[0].get_text(strip=True),\n",
    "                        'unit': cols[1].get_text(strip=True),\n",
    "                        'price': cols[2].get_text(strip=True),\n",
    "                        'scraped_at': datetime.now().isoformat(),\n",
    "                        'source_url': url\n",
    "                    })\n",
    "        \n",
    "        return prices\n",
    "    except Exception as e:\n",
    "        print(f\"Error: {e}\")\n",
    "        return []\n",
    "\n",
    "# ดึงข้อมูล\n",
    "coffee_prices = fetch_coffee_prices()\n",
    "coffee_prices"
   ]
  },
  {
   "cell_type": "code",
   "execution_count": 16,
   "metadata": {},
   "outputs": [
    {
     "name": "stdout",
     "output_type": "stream",
     "text": [
      "บันทึก CSV สำเร็จ: bronze/coffee_prices/year=2025/month=07/day=23/20250723_095009.csv\n"
     ]
    }
   ],
   "source": [
    "# บันทึกเป็น CSV ใน Bronze layer\n",
    "if coffee_prices:\n",
    "    # แปลงเป็น DataFrame\n",
    "    df = pd.DataFrame(coffee_prices)\n",
    "    \n",
    "    # สร้าง path\n",
    "    csv_path = f\"coffee_prices/year={now.year}/month={now.month:02d}/day={now.day:02d}/{now.strftime('%Y%m%d_%H%M%S')}.csv\"\n",
    "    \n",
    "    # แปลงเป็น CSV string\n",
    "    csv_buffer = StringIO()\n",
    "    df.to_csv(csv_buffer, index=False)\n",
    "    csv_data = csv_buffer.getvalue()\n",
    "    \n",
    "    # Upload\n",
    "    try:\n",
    "        s3_client.put_object(\n",
    "            Bucket='bronze',\n",
    "            Key=csv_path,\n",
    "            Body=csv_data,\n",
    "            ContentType='text/csv'\n",
    "        )\n",
    "        print(f\"บันทึก CSV สำเร็จ: bronze/{csv_path}\")\n",
    "    except Exception as e:\n",
    "        print(f\"Error: {e}\")"
   ]
  },
  {
   "cell_type": "markdown",
   "metadata": {},
   "source": [
    "## Step 7: List ไฟล์ที่บันทึกใน Bronze"
   ]
  },
  {
   "cell_type": "code",
   "execution_count": 17,
   "metadata": {},
   "outputs": [
    {
     "name": "stdout",
     "output_type": "stream",
     "text": [
      "ไฟล์ล่าสุดใน Bronze layer\n",
      "  - coffee_images/year=2025/month=07/day=23/20250723_090217.json (167 bytes)\n",
      "  - coffee_images/year=2025/month=07/day=23/20250723_094614.json (167 bytes)\n",
      "  - coffee_images/year=2025/month=07/day=23/20250723_095009.json (167 bytes)\n",
      "  - coffee_prices/year=2025/month=07/day=23/20250723_090217.csv (237 bytes)\n",
      "  - coffee_prices/year=2025/month=07/day=23/20250723_094614.csv (237 bytes)\n",
      "  - coffee_prices/year=2025/month=07/day=23/20250723_095009.csv (237 bytes)\n"
     ]
    }
   ],
   "source": [
    "# List objects in bronze bucket\n",
    "response = s3_client.list_objects_v2(Bucket='bronze', MaxKeys=10)\n",
    "\n",
    "if 'Contents' in response:\n",
    "    print(\"ไฟล์ล่าสุดใน Bronze layer\")\n",
    "    for obj in response['Contents']:\n",
    "        print(f\"  - {obj['Key']} ({obj['Size']} bytes)\")\n",
    "else:\n",
    "    print(\"ยังไม่มีไฟล์ใน Bronze bucket\")"
   ]
  },
  {
   "cell_type": "markdown",
   "metadata": {},
   "source": [
    "## Step 8: อ่านข้อมูลกลับมาตรวจสอบ"
   ]
  },
  {
   "cell_type": "code",
   "execution_count": 18,
   "metadata": {},
   "outputs": [
    {
     "name": "stdout",
     "output_type": "stream",
     "text": [
      "อ่านไฟล์: coffee_images/year=2025/month=07/day=23/20250723_090217.json\n",
      "{\n",
      "  \"file\": \"https://coffee.alexflipnote.dev/DRdTIRRYlsQ_coffee.jpg\",\n",
      "  \"fetched_at\": \"2025-07-23T09:02:15.018441\",\n",
      "  \"source\": \"https://coffee.alexflipnote.dev/random.json\"\n",
      "}\n"
     ]
    }
   ],
   "source": [
    "# อ่าน JSON file ล่าสุด\n",
    "try:\n",
    "    # หา JSON file ล่าสุด\n",
    "    response = s3_client.list_objects_v2(\n",
    "        Bucket='bronze',\n",
    "        Prefix='coffee_images/',\n",
    "        MaxKeys=10\n",
    "    )\n",
    "    \n",
    "    if 'Contents' in response:\n",
    "        latest_key = response['Contents'][0]['Key']\n",
    "        \n",
    "        # อ่านไฟล์\n",
    "        obj = s3_client.get_object(Bucket='bronze', Key=latest_key)\n",
    "        content = obj['Body'].read().decode('utf-8')\n",
    "        data = json.loads(content)\n",
    "        \n",
    "        print(f\"อ่านไฟล์: {latest_key}\")\n",
    "        print(json.dumps(data, indent=2, ensure_ascii=False))\n",
    "except Exception as e:\n",
    "    print(f\"Error reading: {e}\")"
   ]
  },
  {
   "cell_type": "markdown",
   "metadata": {},
   "source": [
    "## สรุป\n",
    "\n",
    "Bronze Layer คือชั้นแรกที่เก็บ raw data โดย\n",
    "1. **ไม่แปลงข้อมูล** - เก็บในรูปแบบดั้งเดิม\n",
    "2. **Partition by date** - จัดเก็บตามวันที่\n",
    "3. **เพิ่ม metadata** - timestamp, source\n",
    "4. **รองรับหลายรูปแบบ** - JSON, CSV, Parquet\n",
    "\n",
    "ข้อมูลใน Bronze พร้อมสำหรับการ transform ไป Silver layer ในขั้นตอนถัดไป!"
   ]
  }
 ],
 "metadata": {
  "kernelspec": {
   "display_name": "Python 3",
   "language": "python",
   "name": "python3"
  },
  "language_info": {
   "codemirror_mode": {
    "name": "ipython",
    "version": 3
   },
   "file_extension": ".py",
   "mimetype": "text/x-python",
   "name": "python",
   "nbconvert_exporter": "python",
   "pygments_lexer": "ipython3",
   "version": "3.10.18"
  }
 },
 "nbformat": 4,
 "nbformat_minor": 4
}
