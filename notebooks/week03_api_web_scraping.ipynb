{
 "cells": [
  {
   "cell_type": "code",
   "execution_count": 22,
   "id": "ad11d2f3",
   "metadata": {
    "execution": {
     "iopub.execute_input": "2025-07-22T22:18:20.330787Z",
     "iopub.status.busy": "2025-07-22T22:18:20.330342Z",
     "iopub.status.idle": "2025-07-22T22:18:20.375551Z",
     "shell.execute_reply": "2025-07-22T22:18:20.375021Z"
    }
   },
   "outputs": [],
   "source": [
    "import requests\n",
    "from datetime import datetime"
   ]
  },
  {
   "cell_type": "code",
   "execution_count": 23,
   "id": "1aa4ab90",
   "metadata": {
    "execution": {
     "iopub.execute_input": "2025-07-22T22:18:20.377600Z",
     "iopub.status.busy": "2025-07-22T22:18:20.377428Z",
     "iopub.status.idle": "2025-07-22T22:18:20.380049Z",
     "shell.execute_reply": "2025-07-22T22:18:20.379545Z"
    }
   },
   "outputs": [],
   "source": [
    "base_url = \"https://coffee.alexflipnote.dev/random.json\"\n",
    "api_key  = \"\""
   ]
  },
  {
   "cell_type": "code",
   "execution_count": 24,
   "id": "afd1e818",
   "metadata": {
    "execution": {
     "iopub.execute_input": "2025-07-22T22:18:20.381869Z",
     "iopub.status.busy": "2025-07-22T22:18:20.381518Z",
     "iopub.status.idle": "2025-07-22T22:18:20.384141Z",
     "shell.execute_reply": "2025-07-22T22:18:20.383645Z"
    }
   },
   "outputs": [],
   "source": [
    "headers = {\n",
    "        'User-Agent': 'Brew-Right Data Collector 1.0',\n",
    "        'Accept': 'application/json'\n",
    "}"
   ]
  },
  {
   "cell_type": "code",
   "execution_count": 25,
   "id": "63db9af3",
   "metadata": {
    "execution": {
     "iopub.execute_input": "2025-07-22T22:18:20.385966Z",
     "iopub.status.busy": "2025-07-22T22:18:20.385602Z",
     "iopub.status.idle": "2025-07-22T22:18:20.388263Z",
     "shell.execute_reply": "2025-07-22T22:18:20.387757Z"
    }
   },
   "outputs": [],
   "source": [
    "headers['Authorization'] = f'Bearer {api_key}' #หรือ\n",
    "headers['Authorization'] = f'{api_key}'"
   ]
  },
  {
   "cell_type": "code",
   "execution_count": 26,
   "id": "9ac3ecd9",
   "metadata": {
    "execution": {
     "iopub.execute_input": "2025-07-22T22:18:20.390123Z",
     "iopub.status.busy": "2025-07-22T22:18:20.389757Z",
     "iopub.status.idle": "2025-07-22T22:18:21.134582Z",
     "shell.execute_reply": "2025-07-22T22:18:21.134035Z"
    }
   },
   "outputs": [],
   "source": [
    "response = requests.get(base_url, headers=headers) #get = ไปเอาข้อมูล"
   ]
  },
  {
   "cell_type": "code",
   "execution_count": 27,
   "id": "c9222b76",
   "metadata": {
    "execution": {
     "iopub.execute_input": "2025-07-22T22:18:21.137038Z",
     "iopub.status.busy": "2025-07-22T22:18:21.136642Z",
     "iopub.status.idle": "2025-07-22T22:18:21.142467Z",
     "shell.execute_reply": "2025-07-22T22:18:21.141952Z"
    }
   },
   "outputs": [
    {
     "data": {
      "text/plain": [
       "200"
      ]
     },
     "execution_count": 27,
     "metadata": {},
     "output_type": "execute_result"
    }
   ],
   "source": [
    "response.status_code"
   ]
  },
  {
   "cell_type": "code",
   "execution_count": 28,
   "id": "cbe86624",
   "metadata": {
    "execution": {
     "iopub.execute_input": "2025-07-22T22:18:21.144401Z",
     "iopub.status.busy": "2025-07-22T22:18:21.144055Z",
     "iopub.status.idle": "2025-07-22T22:18:21.147591Z",
     "shell.execute_reply": "2025-07-22T22:18:21.147000Z"
    }
   },
   "outputs": [
    {
     "name": "stdout",
     "output_type": "stream",
     "text": [
      "{'file': 'https://coffee.alexflipnote.dev/BqKtHnDXSks_coffee.jpg'}\n"
     ]
    }
   ],
   "source": [
    "if response.status_code == 200:\n",
    "    print(response.json())\n",
    "    url = response.json()['file']"
   ]
  },
  {
   "cell_type": "code",
   "execution_count": 29,
   "id": "52eee3cd",
   "metadata": {
    "execution": {
     "iopub.execute_input": "2025-07-22T22:18:21.149626Z",
     "iopub.status.busy": "2025-07-22T22:18:21.149200Z",
     "iopub.status.idle": "2025-07-22T22:18:21.152054Z",
     "shell.execute_reply": "2025-07-22T22:18:21.151445Z"
    }
   },
   "outputs": [],
   "source": [
    "from IPython.display import Image, display"
   ]
  },
  {
   "cell_type": "code",
   "execution_count": 30,
   "id": "6a20ca96",
   "metadata": {
    "execution": {
     "iopub.execute_input": "2025-07-22T22:18:21.153920Z",
     "iopub.status.busy": "2025-07-22T22:18:21.153590Z",
     "iopub.status.idle": "2025-07-22T22:18:21.157429Z",
     "shell.execute_reply": "2025-07-22T22:18:21.156804Z"
    }
   },
   "outputs": [
    {
     "data": {
      "text/html": [
       "<img src=\"https://coffee.alexflipnote.dev/BqKtHnDXSks_coffee.jpg\"/>"
      ],
      "text/plain": [
       "<IPython.core.display.Image object>"
      ]
     },
     "metadata": {},
     "output_type": "display_data"
    }
   ],
   "source": [
    "display(Image(url=url))"
   ]
  },
  {
   "cell_type": "code",
   "execution_count": 31,
   "id": "09c8a50f",
   "metadata": {
    "execution": {
     "iopub.execute_input": "2025-07-22T22:18:21.159310Z",
     "iopub.status.busy": "2025-07-22T22:18:21.158954Z",
     "iopub.status.idle": "2025-07-22T22:18:21.885350Z",
     "shell.execute_reply": "2025-07-22T22:18:21.884761Z"
    }
   },
   "outputs": [
    {
     "name": "stdout",
     "output_type": "stream",
     "text": [
      "{'file': 'https://coffee.alexflipnote.dev/A4azWR0JISs_coffee.png', 'fetched_at': '2025-07-23T09:50:13.984948', 'source': 'https://coffee.alexflipnote.dev/random.json'}\n"
     ]
    }
   ],
   "source": [
    "try:\n",
    "    resp = requests.get(base_url, headers=headers, timeout=10)\n",
    "    resp.raise_for_status()               \n",
    "    data = resp.json()\n",
    "    data['fetched_at'] = datetime.now().isoformat()\n",
    "    data['source'] = base_url\n",
    "except Exception as e: #ถ้าตรง try error จะโยนมา except\n",
    "    data = None\n",
    "    print(f'{e}')\n",
    "\n",
    "print(data)\n"
   ]
  },
  {
   "cell_type": "code",
   "execution_count": 32,
   "id": "dcdcc9f2",
   "metadata": {},
   "outputs": [],
   "source": [
    "def fetch_coffee_img():\n",
    "    \"\"\"\n",
    "    Template แบบฝึกหัด\n",
    "    \"\"\"\n",
    "    \n",
    "    api_url = \"https://api.example.com/coffee\"\n",
    "    \n",
    "    try:\n",
    "        # เขียนโค้ดดึงภาพกาแฟ\n",
    "        # 1. สร้าง headers ที่เหมาะสม\n",
    "        # 2. ส่ง GET request\n",
    "        # 3. จัดการ response และ errors\n",
    "        # 4. เพิ่ม timestamp และ metadata\n",
    "        \n",
    "        pass\n",
    "        \n",
    "    except Exception as e:\n",
    "        print(f\"Exercise failed: {e}\")\n",
    "\n",
    "fetch_coffee_img()"
   ]
  },
  {
   "cell_type": "code",
   "execution_count": 33,
   "id": "b03e456e",
   "metadata": {},
   "outputs": [],
   "source": [
    "import requests\n",
    "from bs4 import BeautifulSoup\n",
    "\n",
    "headers = {\n",
    "    'User-Agent': 'Mozilla/5.0 (compatible; Brew-Right Bot 1.0; +https://www.plearnjai.com/dstools/bot.html)'\n",
    "}\n",
    "\n",
    "url = 'https://app.bot.or.th/BTWS_STAT/statistics/BOTWEBSTAT.aspx?language=TH&reportID=588'"
   ]
  },
  {
   "cell_type": "code",
   "execution_count": 34,
   "id": "ce22384b",
   "metadata": {},
   "outputs": [],
   "source": [
    "resp = requests.get(url, headers=headers, timeout=10)"
   ]
  },
  {
   "cell_type": "code",
   "execution_count": 35,
   "id": "933bfe83",
   "metadata": {},
   "outputs": [],
   "source": [
    "resp.raise_for_status()"
   ]
  },
  {
   "cell_type": "code",
   "execution_count": 36,
   "id": "67187623",
   "metadata": {},
   "outputs": [],
   "source": [
    "soup = BeautifulSoup(resp.content, 'html.parser')"
   ]
  },
  {
   "cell_type": "code",
   "execution_count": 37,
   "id": "f875698a",
   "metadata": {},
   "outputs": [
    {
     "data": {
      "text/plain": [
       "'74.51'"
      ]
     },
     "execution_count": 37,
     "metadata": {},
     "output_type": "execute_result"
    }
   ],
   "source": [
    "price = None\n",
    "for row in soup.find_all('tr'):\n",
    "    if 'เมล็ดกาแฟคละ' in row.get_text():\n",
    "        cols = row.find_all('td')\n",
    "        if len(cols) >= 3:\n",
    "            price = cols[2].get_text(strip=True)\n",
    "        break\n",
    "\n",
    "price"
   ]
  },
  {
   "cell_type": "code",
   "execution_count": 38,
   "id": "03887a56",
   "metadata": {},
   "outputs": [],
   "source": [
    "def fetch_thai_coffee_price():\n",
    "    results = []\n",
    "\n",
    "    headers = {\n",
    "        'User-Agent': 'Mozilla/5.0 (compatible; Brew-Right Bot 1.0; +https://www.plearnjai.com/dstools/bot.html)'\n",
    "    }\n",
    "    url = 'https://app.bot.or.th/BTWS_STAT/statistics/BOTWEBSTAT.aspx?language=TH&reportID=588'\n",
    "    \n",
    "    try:\n",
    "        resp = requests.get(url, headers=headers, timeout=10)\n",
    "        resp.raise_for_status()\n",
    "        soup = BeautifulSoup(resp.content, 'html.parser')\n",
    "\n",
    "        price = None\n",
    "        for row in soup.find_all('tr'):\n",
    "            if 'เมล็ดกาแฟคละ' in row.get_text():\n",
    "                cols = row.find_all('td')\n",
    "                if len(cols) >= 3:\n",
    "                    price = cols[2].get_text(strip=True)\n",
    "                break\n",
    "\n",
    "        # ถ้าพบราคา จึง append\n",
    "        if price is not None:\n",
    "            results.append({\n",
    "                'name':        'เมล็ดกาแฟคละ',\n",
    "                'price':       price,\n",
    "                'scraped_at':  datetime.now().isoformat(),\n",
    "                'source_url':  url\n",
    "            })\n",
    "\n",
    "        return results\n",
    "\n",
    "    except Exception as e:\n",
    "        print(f\"Error: {e}\")\n",
    "        return []"
   ]
  },
  {
   "cell_type": "code",
   "execution_count": 39,
   "id": "5c151e54",
   "metadata": {},
   "outputs": [
    {
     "data": {
      "text/plain": [
       "[{'name': 'เมล็ดกาแฟคละ',\n",
       "  'price': '74.51',\n",
       "  'scraped_at': '2025-07-23T09:50:15.037760',\n",
       "  'source_url': 'https://app.bot.or.th/BTWS_STAT/statistics/BOTWEBSTAT.aspx?language=TH&reportID=588'}]"
      ]
     },
     "execution_count": 39,
     "metadata": {},
     "output_type": "execute_result"
    }
   ],
   "source": [
    "fetch_thai_coffee_price()"
   ]
  },
  {
   "cell_type": "code",
   "execution_count": 40,
   "id": "412978e3",
   "metadata": {},
   "outputs": [
    {
     "data": {
      "text/plain": [
       "'https://www.bot.or.th/robots.txt'"
      ]
     },
     "execution_count": 40,
     "metadata": {},
     "output_type": "execute_result"
    }
   ],
   "source": [
    "'https://www.bot.or.th/robots.txt'"
   ]
  },
  {
   "cell_type": "code",
   "execution_count": 41,
   "id": "e5807586",
   "metadata": {},
   "outputs": [
    {
     "data": {
      "text/plain": [
       "'https://app.bot.or.th/robots.txt'"
      ]
     },
     "execution_count": 41,
     "metadata": {},
     "output_type": "execute_result"
    }
   ],
   "source": [
    "'https://app.bot.or.th/robots.txt'"
   ]
  },
  {
   "cell_type": "code",
   "execution_count": 42,
   "id": "337b345e",
   "metadata": {},
   "outputs": [],
   "source": [
    "# 1. ตรวจสอบ robots.txt\n",
    "\n",
    "def scrape_coffee_reviews():\n",
    "    \"\"\"\n",
    "    Template แบบฝึกหัด\n",
    "    \"\"\"\n",
    "    \n",
    "    sample_url = \"https://example-coffee-reviews.com\"\n",
    "    \n",
    "    try:\n",
    "        # เขียนโค้ดสกัดข้อมูลรีวิว        \n",
    "        # 2. ส่ง request พร้อม appropriate headers\n",
    "        # 3. Parse HTML ด้วย BeautifulSoup\n",
    "        # 4. สกัดข้อมูลรีวิว (คะแนน, ความคิดเห็น, วันที่)\n",
    "        # 5. จัดเก็บในรูปแบบ structured data\n",
    "        \n",
    "        pass\n",
    "        \n",
    "    except Exception as e:\n",
    "        print(f\"Exercise failed: {e}\")\n",
    "\n",
    "scrape_coffee_reviews()"
   ]
  }
 ],
 "metadata": {
  "kernelspec": {
   "display_name": "Python 3",
   "language": "python",
   "name": "python3"
  },
  "language_info": {
   "codemirror_mode": {
    "name": "ipython",
    "version": 3
   },
   "file_extension": ".py",
   "mimetype": "text/x-python",
   "name": "python",
   "nbconvert_exporter": "python",
   "pygments_lexer": "ipython3",
   "version": "3.10.18"
  }
 },
 "nbformat": 4,
 "nbformat_minor": 5
}
